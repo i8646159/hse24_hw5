{
  "nbformat": 4,
  "nbformat_minor": 0,
  "metadata": {
    "colab": {
      "provenance": []
    },
    "kernelspec": {
      "name": "ir",
      "display_name": "R"
    },
    "language_info": {
      "name": "R"
    }
  },
  "cells": [
    {
      "cell_type": "code",
      "source": [
        "library(DESeq2)\n",
        "library(ggplot2)"
      ],
      "metadata": {
        "id": "sLYNITB8lMGa",
        "colab": {
          "base_uri": "https://localhost:8080/"
        },
        "outputId": "3ff49256-4f43-429f-f63e-d9bf57cf0262"
      },
      "execution_count": null,
      "outputs": [
        {
          "output_type": "stream",
          "name": "stderr",
          "text": [
            "Loading required package: S4Vectors\n",
            "\n",
            "Loading required package: stats4\n",
            "\n",
            "Loading required package: BiocGenerics\n",
            "\n",
            "\n",
            "Attaching package: ‘BiocGenerics’\n",
            "\n",
            "\n",
            "The following objects are masked from ‘package:stats’:\n",
            "\n",
            "    IQR, mad, sd, var, xtabs\n",
            "\n",
            "\n",
            "The following objects are masked from ‘package:base’:\n",
            "\n",
            "    anyDuplicated, aperm, append, as.data.frame, basename, cbind,\n",
            "    colnames, dirname, do.call, duplicated, eval, evalq, Filter, Find,\n",
            "    get, grep, grepl, intersect, is.unsorted, lapply, Map, mapply,\n",
            "    match, mget, order, paste, pmax, pmax.int, pmin, pmin.int,\n",
            "    Position, rank, rbind, Reduce, rownames, sapply, saveRDS, setdiff,\n",
            "    table, tapply, union, unique, unsplit, which.max, which.min\n",
            "\n",
            "\n",
            "\n",
            "Attaching package: ‘S4Vectors’\n",
            "\n",
            "\n",
            "The following object is masked from ‘package:utils’:\n",
            "\n",
            "    findMatches\n",
            "\n",
            "\n",
            "The following objects are masked from ‘package:base’:\n",
            "\n",
            "    expand.grid, I, unname\n",
            "\n",
            "\n",
            "Loading required package: IRanges\n",
            "\n",
            "Loading required package: GenomicRanges\n",
            "\n",
            "Loading required package: GenomeInfoDb\n",
            "\n",
            "Loading required package: SummarizedExperiment\n",
            "\n",
            "Loading required package: MatrixGenerics\n",
            "\n",
            "Loading required package: matrixStats\n",
            "\n",
            "\n",
            "Attaching package: ‘MatrixGenerics’\n",
            "\n",
            "\n",
            "The following objects are masked from ‘package:matrixStats’:\n",
            "\n",
            "    colAlls, colAnyNAs, colAnys, colAvgsPerRowSet, colCollapse,\n",
            "    colCounts, colCummaxs, colCummins, colCumprods, colCumsums,\n",
            "    colDiffs, colIQRDiffs, colIQRs, colLogSumExps, colMadDiffs,\n",
            "    colMads, colMaxs, colMeans2, colMedians, colMins, colOrderStats,\n",
            "    colProds, colQuantiles, colRanges, colRanks, colSdDiffs, colSds,\n",
            "    colSums2, colTabulates, colVarDiffs, colVars, colWeightedMads,\n",
            "    colWeightedMeans, colWeightedMedians, colWeightedSds,\n",
            "    colWeightedVars, rowAlls, rowAnyNAs, rowAnys, rowAvgsPerColSet,\n",
            "    rowCollapse, rowCounts, rowCummaxs, rowCummins, rowCumprods,\n",
            "    rowCumsums, rowDiffs, rowIQRDiffs, rowIQRs, rowLogSumExps,\n",
            "    rowMadDiffs, rowMads, rowMaxs, rowMeans2, rowMedians, rowMins,\n",
            "    rowOrderStats, rowProds, rowQuantiles, rowRanges, rowRanks,\n",
            "    rowSdDiffs, rowSds, rowSums2, rowTabulates, rowVarDiffs, rowVars,\n",
            "    rowWeightedMads, rowWeightedMeans, rowWeightedMedians,\n",
            "    rowWeightedSds, rowWeightedVars\n",
            "\n",
            "\n",
            "Loading required package: Biobase\n",
            "\n",
            "Welcome to Bioconductor\n",
            "\n",
            "    Vignettes contain introductory material; view with\n",
            "    'browseVignettes()'. To cite Bioconductor, see\n",
            "    'citation(\"Biobase\")', and for packages 'citation(\"pkgname\")'.\n",
            "\n",
            "\n",
            "\n",
            "Attaching package: ‘Biobase’\n",
            "\n",
            "\n",
            "The following object is masked from ‘package:MatrixGenerics’:\n",
            "\n",
            "    rowMedians\n",
            "\n",
            "\n",
            "The following objects are masked from ‘package:matrixStats’:\n",
            "\n",
            "    anyMissing, rowMedians\n",
            "\n",
            "\n"
          ]
        }
      ]
    },
    {
      "cell_type": "code",
      "source": [
        "# Combine the count data\n",
        "countData <- cbind(scRNA_counts, bulkRNA_counts)\n"
      ],
      "metadata": {
        "id": "o_f-GbCxlejS"
      },
      "execution_count": null,
      "outputs": []
    },
    {
      "cell_type": "code",
      "source": [
        "# Load count data\n",
        "scRNA_counts <- read.csv(\"mtec_iv.csv\", row.names = 1)\n",
        "bulkRNA_counts <- read.csv(\"bulk.csv\", row.names = 1)"
      ],
      "metadata": {
        "id": "J_F6Ssd9lbNi"
      },
      "execution_count": null,
      "outputs": []
    },
    {
      "cell_type": "code",
      "execution_count": null,
      "metadata": {
        "colab": {
          "base_uri": "https://localhost:8080/"
        },
        "id": "4e2Y2IfLfvo1",
        "outputId": "f5710b5f-1338-4568-ce5a-32610438b29f"
      },
      "outputs": [
        {
          "output_type": "stream",
          "name": "stderr",
          "text": [
            "Installing package into ‘/usr/local/lib/R/site-library’\n",
            "(as ‘lib’ is unspecified)\n",
            "\n",
            "'getOption(\"repos\")' replaces Bioconductor standard repositories, see\n",
            "'help(\"repositories\", package = \"BiocManager\")' for details.\n",
            "Replacement repositories:\n",
            "    CRAN: https://cran.rstudio.com\n",
            "\n",
            "Bioconductor version 3.20 (BiocManager 1.30.25), R 4.4.2 (2024-10-31)\n",
            "\n",
            "Installing package(s) 'BiocVersion', 'DESeq2'\n",
            "\n",
            "also installing the dependencies ‘formatR’, ‘UCSC.utils’, ‘GenomeInfoDbData’, ‘zlibbioc’, ‘abind’, ‘SparseArray’, ‘lambda.r’, ‘futile.options’, ‘GenomeInfoDb’, ‘XVector’, ‘S4Arrays’, ‘DelayedArray’, ‘futile.logger’, ‘snow’, ‘BH’, ‘S4Vectors’, ‘IRanges’, ‘GenomicRanges’, ‘SummarizedExperiment’, ‘BiocGenerics’, ‘Biobase’, ‘BiocParallel’, ‘matrixStats’, ‘locfit’, ‘MatrixGenerics’, ‘RcppArmadillo’\n",
            "\n",
            "\n",
            "Old packages: 'cluster', 'lubridate', 'testthat'\n",
            "\n"
          ]
        }
      ],
      "source": [
        "if (!requireNamespace(\"BiocManager\", quietly = TRUE))\n",
        "    install.packages(\"BiocManager\")\n",
        "BiocManager::install(\"DESeq2\")\n"
      ]
    },
    {
      "cell_type": "code",
      "source": [
        "# Load colData\n",
        "colData <- read.csv(\"Data.csv\", row.names = 1)"
      ],
      "metadata": {
        "id": "T0syA9DSwBaN"
      },
      "execution_count": null,
      "outputs": []
    },
    {
      "cell_type": "code",
      "source": [
        "# Create DESeqDataSet\n",
        "dds <- DESeqDataSetFromMatrix(countData = countData,\n",
        "                              colData = colData,\n",
        "                              design = ~ condition)\n",
        "\n",
        "\n",
        "# Size factor estimation using the poscounts method\n",
        "dds <- estimateSizeFactors(dds, type = \"poscounts\")\n",
        "\n"
      ],
      "metadata": {
        "colab": {
          "base_uri": "https://localhost:8080/"
        },
        "id": "DMkQbIXNwFUa",
        "outputId": "e46751c8-d09c-435f-c984-769a93f3d5f8"
      },
      "execution_count": null,
      "outputs": [
        {
          "output_type": "stream",
          "name": "stderr",
          "text": [
            "Warning message in DESeqDataSet(se, design = design, ignoreRank):\n",
            "“some variables in design formula are characters, converting to factors”\n",
            "  Note: levels of factors in the design contain characters other than\n",
            "  letters, numbers, '_' and '.'. It is recommended (but not required) to use\n",
            "  only letters, numbers, and delimiters '_' or '.', as these are safe characters\n",
            "  for column names in R. [This is a message, not a warning or an error]\n",
            "\n",
            "  Note: levels of factors in the design contain characters other than\n",
            "  letters, numbers, '_' and '.'. It is recommended (but not required) to use\n",
            "  only letters, numbers, and delimiters '_' or '.', as these are safe characters\n",
            "  for column names in R. [This is a message, not a warning or an error]\n",
            "\n"
          ]
        }
      ]
    },
    {
      "cell_type": "code",
      "source": [
        "# Run the DESeq2 pipeline\n",
        "dds <- DESeq(dds)"
      ],
      "metadata": {
        "colab": {
          "base_uri": "https://localhost:8080/"
        },
        "id": "ne0PmdyJzsmQ",
        "outputId": "6edfbb8c-6cb7-48f3-d18b-26dc3230f5de"
      },
      "execution_count": null,
      "outputs": [
        {
          "output_type": "stream",
          "name": "stderr",
          "text": [
            "using pre-existing size factors\n",
            "\n",
            "estimating dispersions\n",
            "\n",
            "gene-wise dispersion estimates\n",
            "\n",
            "mean-dispersion relationship\n",
            "\n",
            "  Note: levels of factors in the design contain characters other than\n",
            "  letters, numbers, '_' and '.'. It is recommended (but not required) to use\n",
            "  only letters, numbers, and delimiters '_' or '.', as these are safe characters\n",
            "  for column names in R. [This is a message, not a warning or an error]\n",
            "\n",
            "final dispersion estimates\n",
            "\n",
            "fitting model and testing\n",
            "\n",
            "  Note: levels of factors in the design contain characters other than\n",
            "  letters, numbers, '_' and '.'. It is recommended (but not required) to use\n",
            "  only letters, numbers, and delimiters '_' or '.', as these are safe characters\n",
            "  for column names in R. [This is a message, not a warning or an error]\n",
            "\n",
            "-- replacing outliers and refitting for 2 genes\n",
            "-- DESeq argument 'minReplicatesForReplace' = 7 \n",
            "-- original counts are preserved in counts(dds)\n",
            "\n",
            "estimating dispersions\n",
            "\n",
            "fitting model and testing\n",
            "\n",
            "  Note: levels of factors in the design contain characters other than\n",
            "  letters, numbers, '_' and '.'. It is recommended (but not required) to use\n",
            "  only letters, numbers, and delimiters '_' or '.', as these are safe characters\n",
            "  for column names in R. [This is a message, not a warning or an error]\n",
            "\n"
          ]
        }
      ]
    },
    {
      "cell_type": "code",
      "source": [
        "# Extract results\n",
        "res <- results(dds)"
      ],
      "metadata": {
        "id": "JUBQtIlnzuw_"
      },
      "execution_count": null,
      "outputs": []
    },
    {
      "cell_type": "code",
      "source": [
        "# Order results by p-value\n",
        "resOrdered <- res[order(res$pvalue),]"
      ],
      "metadata": {
        "id": "KlojY6Muzwr2"
      },
      "execution_count": null,
      "outputs": []
    },
    {
      "cell_type": "code",
      "source": [
        "print(resOrdered)"
      ],
      "metadata": {
        "colab": {
          "base_uri": "https://localhost:8080/"
        },
        "id": "P1G7wMl2_PA5",
        "outputId": "7b9b84e8-e6f5-4433-d8f3-305418895394"
      },
      "execution_count": null,
      "outputs": [
        {
          "output_type": "stream",
          "name": "stdout",
          "text": [
            "log2 fold change (MLE): condition mTEC.IV vs Bulk \n",
            "Wald test p-value: condition mTEC.IV vs Bulk \n",
            "DataFrame with 22 rows and 6 columns\n",
            "           baseMean log2FoldChange     lfcSE       stat      pvalue        padj\n",
            "          <numeric>      <numeric> <numeric>  <numeric>   <numeric>   <numeric>\n",
            "Ccl21a     2.849985       12.51596   2.24420    5.57702 2.44679e-08 5.38295e-07\n",
            "Aire       1.059630       -6.06325   2.45737   -2.46738 1.36107e-02 1.49717e-01\n",
            "Hdc        1.039638       -4.72235   2.35818   -2.00254 4.52267e-02 3.31662e-01\n",
            "Ubd        6.486573       -2.82368   1.57618   -1.79147 7.32175e-02 4.02696e-01\n",
            "Serpinb6a  0.812908       -2.29954   1.93310   -1.18956 2.34219e-01 9.77879e-01\n",
            "...             ...            ...       ...        ...         ...         ...\n",
            "Apoe      1.7282423      -0.162018   1.62803 -0.0995173    0.920728    0.977879\n",
            "Gnb3      0.2383525       0.340502   5.18076  0.0657244    0.947597    0.977879\n",
            "Avil      0.6086012      -0.120863   3.91773 -0.0308502    0.975389    0.977879\n",
            "Psmb11    0.1235398       0.265330   8.64302  0.0306988    0.975510    0.977879\n",
            "Car8      0.0635842      -0.363419  13.10666 -0.0277278    0.977879    0.977879\n"
          ]
        }
      ]
    },
    {
      "cell_type": "code",
      "source": [
        "# MA Plot\n",
        "plotMA(res, ylim=c(-2,2), main=\"MA Plot\")"
      ],
      "metadata": {
        "colab": {
          "base_uri": "https://localhost:8080/",
          "height": 437
        },
        "id": "uPh3-A5uz0uE",
        "outputId": "3fbe4f6d-e4af-444e-89a7-82f9c6303648"
      },
      "execution_count": null,
      "outputs": [
        {
          "output_type": "display_data",
          "data": {
            "text/plain": [
              "Plot with title “MA Plot”"
            ],
            "image/png": "[encoded data removed]"
          },
          "metadata": {
            "image/png": {
              "width": 420,
              "height": 420
            }
          }
        }
      ]
    }
  ]
}